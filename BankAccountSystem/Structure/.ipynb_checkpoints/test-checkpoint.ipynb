{
 "cells": [
  {
   "cell_type": "code",
   "execution_count": 1,
   "id": "d81b5e65",
   "metadata": {},
   "outputs": [],
   "source": [
    "import pandas as pd"
   ]
  },
  {
   "cell_type": "code",
   "execution_count": 5,
   "id": "ee2d02f1",
   "metadata": {},
   "outputs": [
    {
     "name": "stdout",
     "output_type": "stream",
     "text": [
      "Collecting html5lib\n",
      "  Downloading html5lib-1.1-py2.py3-none-any.whl (112 kB)\n",
      "Requirement already satisfied: webencodings in c:\\users\\sophiechen\\anaconda3\\lib\\site-packages (from html5lib) (0.5.1)\n",
      "Requirement already satisfied: six>=1.9 in c:\\users\\sophiechen\\anaconda3\\lib\\site-packages (from html5lib) (1.16.0)\n",
      "Installing collected packages: html5lib\n",
      "Successfully installed html5lib-1.1\n"
     ]
    }
   ],
   "source": [
    "! pip install -- html5lib"
   ]
  },
  {
   "cell_type": "code",
   "execution_count": 2,
   "id": "62858027",
   "metadata": {},
   "outputs": [],
   "source": [
    "import html5lib"
   ]
  },
  {
   "cell_type": "code",
   "execution_count": 16,
   "id": "aeac2445",
   "metadata": {},
   "outputs": [],
   "source": [
    "data = pd.read_html(\"https://www.td.com/ca/en/personal-banking/products/bank-accounts/account-rates/\") # From TD bank"
   ]
  },
  {
   "cell_type": "code",
   "execution_count": 7,
   "id": "40f80f07",
   "metadata": {},
   "outputs": [
    {
     "name": "stderr",
     "output_type": "stream",
     "text": [
      "C:\\Users\\sophiechen\\anaconda3\\lib\\site-packages\\pandas\\core\\internals\\construction.py:576: VisibleDeprecationWarning: Creating an ndarray from ragged nested sequences (which is a list-or-tuple of lists-or-tuples-or ndarrays with different lengths or shapes) is deprecated. If you meant to do this, you must specify 'dtype=object' when creating the ndarray.\n",
      "  values = np.array([convert(v) for v in values])\n"
     ]
    }
   ],
   "source": [
    "data = pd.DataFrame(data)"
   ]
  },
  {
   "cell_type": "code",
   "execution_count": 17,
   "id": "d3f46314",
   "metadata": {},
   "outputs": [
    {
     "data": {
      "text/html": [
       "<div>\n",
       "<style scoped>\n",
       "    .dataframe tbody tr th:only-of-type {\n",
       "        vertical-align: middle;\n",
       "    }\n",
       "\n",
       "    .dataframe tbody tr th {\n",
       "        vertical-align: top;\n",
       "    }\n",
       "\n",
       "    .dataframe thead th {\n",
       "        text-align: right;\n",
       "    }\n",
       "</style>\n",
       "<table border=\"1\" class=\"dataframe\">\n",
       "  <thead>\n",
       "    <tr style=\"text-align: right;\">\n",
       "      <th></th>\n",
       "      <th>Total Daily Closing Balance</th>\n",
       "      <th>Interest Rate</th>\n",
       "    </tr>\n",
       "  </thead>\n",
       "  <tbody>\n",
       "    <tr>\n",
       "      <th>0</th>\n",
       "      <td>$0 to $999.99</td>\n",
       "      <td>0.010%</td>\n",
       "    </tr>\n",
       "    <tr>\n",
       "      <th>1</th>\n",
       "      <td>$1,000.00 to $4,999.99</td>\n",
       "      <td>0.010%</td>\n",
       "    </tr>\n",
       "    <tr>\n",
       "      <th>2</th>\n",
       "      <td>$5,000.00 to $9999.99</td>\n",
       "      <td>0.010%</td>\n",
       "    </tr>\n",
       "    <tr>\n",
       "      <th>3</th>\n",
       "      <td>$10,000.00 to $24,999.99</td>\n",
       "      <td>0.010%</td>\n",
       "    </tr>\n",
       "    <tr>\n",
       "      <th>4</th>\n",
       "      <td>$25,000.00 to $59,999.99</td>\n",
       "      <td>0.010%</td>\n",
       "    </tr>\n",
       "    <tr>\n",
       "      <th>5</th>\n",
       "      <td>$60,000.00 and over</td>\n",
       "      <td>0.010%</td>\n",
       "    </tr>\n",
       "  </tbody>\n",
       "</table>\n",
       "</div>"
      ],
      "text/plain": [
       "  Total Daily Closing Balance Interest Rate\n",
       "0               $0 to $999.99        0.010%\n",
       "1      $1,000.00 to $4,999.99        0.010%\n",
       "2       $5,000.00 to $9999.99        0.010%\n",
       "3    $10,000.00 to $24,999.99        0.010%\n",
       "4    $25,000.00 to $59,999.99        0.010%\n",
       "5         $60,000.00 and over        0.010%"
      ]
     },
     "execution_count": 17,
     "metadata": {},
     "output_type": "execute_result"
    }
   ],
   "source": [
    "data[0]"
   ]
  },
  {
   "cell_type": "code",
   "execution_count": 10,
   "id": "f51102b2",
   "metadata": {},
   "outputs": [
    {
     "name": "stdout",
     "output_type": "stream",
     "text": [
      "Help on function read_html in module pandas.io.html:\n",
      "\n",
      "read_html(io: 'FilePath | ReadBuffer[str]', match: 'str | Pattern' = '.+', flavor: 'str | None' = None, header: 'int | Sequence[int] | None' = None, index_col: 'int | Sequence[int] | None' = None, skiprows: 'int | Sequence[int] | slice | None' = None, attrs: 'dict[str, str] | None' = None, parse_dates: 'bool' = False, thousands: 'str | None' = ',', encoding: 'str | None' = None, decimal: 'str' = '.', converters: 'dict | None' = None, na_values=None, keep_default_na: 'bool' = True, displayed_only: 'bool' = True) -> 'list[DataFrame]'\n",
      "    Read HTML tables into a ``list`` of ``DataFrame`` objects.\n",
      "    \n",
      "    Parameters\n",
      "    ----------\n",
      "    io : str, path object, or file-like object\n",
      "        String, path object (implementing ``os.PathLike[str]``), or file-like\n",
      "        object implementing a string ``read()`` function.\n",
      "        The string can represent a URL or the HTML itself. Note that\n",
      "        lxml only accepts the http, ftp and file url protocols. If you have a\n",
      "        URL that starts with ``'https'`` you might try removing the ``'s'``.\n",
      "    \n",
      "    match : str or compiled regular expression, optional\n",
      "        The set of tables containing text matching this regex or string will be\n",
      "        returned. Unless the HTML is extremely simple you will probably need to\n",
      "        pass a non-empty string here. Defaults to '.+' (match any non-empty\n",
      "        string). The default value will return all tables contained on a page.\n",
      "        This value is converted to a regular expression so that there is\n",
      "        consistent behavior between Beautiful Soup and lxml.\n",
      "    \n",
      "    flavor : str, optional\n",
      "        The parsing engine to use. 'bs4' and 'html5lib' are synonymous with\n",
      "        each other, they are both there for backwards compatibility. The\n",
      "        default of ``None`` tries to use ``lxml`` to parse and if that fails it\n",
      "        falls back on ``bs4`` + ``html5lib``.\n",
      "    \n",
      "    header : int or list-like, optional\n",
      "        The row (or list of rows for a :class:`~pandas.MultiIndex`) to use to\n",
      "        make the columns headers.\n",
      "    \n",
      "    index_col : int or list-like, optional\n",
      "        The column (or list of columns) to use to create the index.\n",
      "    \n",
      "    skiprows : int, list-like or slice, optional\n",
      "        Number of rows to skip after parsing the column integer. 0-based. If a\n",
      "        sequence of integers or a slice is given, will skip the rows indexed by\n",
      "        that sequence.  Note that a single element sequence means 'skip the nth\n",
      "        row' whereas an integer means 'skip n rows'.\n",
      "    \n",
      "    attrs : dict, optional\n",
      "        This is a dictionary of attributes that you can pass to use to identify\n",
      "        the table in the HTML. These are not checked for validity before being\n",
      "        passed to lxml or Beautiful Soup. However, these attributes must be\n",
      "        valid HTML table attributes to work correctly. For example, ::\n",
      "    \n",
      "            attrs = {'id': 'table'}\n",
      "    \n",
      "        is a valid attribute dictionary because the 'id' HTML tag attribute is\n",
      "        a valid HTML attribute for *any* HTML tag as per `this document\n",
      "        <https://html.spec.whatwg.org/multipage/dom.html#global-attributes>`__. ::\n",
      "    \n",
      "            attrs = {'asdf': 'table'}\n",
      "    \n",
      "        is *not* a valid attribute dictionary because 'asdf' is not a valid\n",
      "        HTML attribute even if it is a valid XML attribute.  Valid HTML 4.01\n",
      "        table attributes can be found `here\n",
      "        <http://www.w3.org/TR/REC-html40/struct/tables.html#h-11.2>`__. A\n",
      "        working draft of the HTML 5 spec can be found `here\n",
      "        <https://html.spec.whatwg.org/multipage/tables.html>`__. It contains the\n",
      "        latest information on table attributes for the modern web.\n",
      "    \n",
      "    parse_dates : bool, optional\n",
      "        See :func:`~read_csv` for more details.\n",
      "    \n",
      "    thousands : str, optional\n",
      "        Separator to use to parse thousands. Defaults to ``','``.\n",
      "    \n",
      "    encoding : str, optional\n",
      "        The encoding used to decode the web page. Defaults to ``None``.``None``\n",
      "        preserves the previous encoding behavior, which depends on the\n",
      "        underlying parser library (e.g., the parser library will try to use\n",
      "        the encoding provided by the document).\n",
      "    \n",
      "    decimal : str, default '.'\n",
      "        Character to recognize as decimal point (e.g. use ',' for European\n",
      "        data).\n",
      "    \n",
      "    converters : dict, default None\n",
      "        Dict of functions for converting values in certain columns. Keys can\n",
      "        either be integers or column labels, values are functions that take one\n",
      "        input argument, the cell (not column) content, and return the\n",
      "        transformed content.\n",
      "    \n",
      "    na_values : iterable, default None\n",
      "        Custom NA values.\n",
      "    \n",
      "    keep_default_na : bool, default True\n",
      "        If na_values are specified and keep_default_na is False the default NaN\n",
      "        values are overridden, otherwise they're appended to.\n",
      "    \n",
      "    displayed_only : bool, default True\n",
      "        Whether elements with \"display: none\" should be parsed.\n",
      "    \n",
      "    Returns\n",
      "    -------\n",
      "    dfs\n",
      "        A list of DataFrames.\n",
      "    \n",
      "    See Also\n",
      "    --------\n",
      "    read_csv : Read a comma-separated values (csv) file into DataFrame.\n",
      "    \n",
      "    Notes\n",
      "    -----\n",
      "    Before using this function you should read the :ref:`gotchas about the\n",
      "    HTML parsing libraries <io.html.gotchas>`.\n",
      "    \n",
      "    Expect to do some cleanup after you call this function. For example, you\n",
      "    might need to manually assign column names if the column names are\n",
      "    converted to NaN when you pass the `header=0` argument. We try to assume as\n",
      "    little as possible about the structure of the table and push the\n",
      "    idiosyncrasies of the HTML contained in the table to the user.\n",
      "    \n",
      "    This function searches for ``<table>`` elements and only for ``<tr>``\n",
      "    and ``<th>`` rows and ``<td>`` elements within each ``<tr>`` or ``<th>``\n",
      "    element in the table. ``<td>`` stands for \"table data\". This function\n",
      "    attempts to properly handle ``colspan`` and ``rowspan`` attributes.\n",
      "    If the function has a ``<thead>`` argument, it is used to construct\n",
      "    the header, otherwise the function attempts to find the header within\n",
      "    the body (by putting rows with only ``<th>`` elements into the header).\n",
      "    \n",
      "    Similar to :func:`~read_csv` the `header` argument is applied\n",
      "    **after** `skiprows` is applied.\n",
      "    \n",
      "    This function will *always* return a list of :class:`DataFrame` *or*\n",
      "    it will fail, e.g., it will *not* return an empty list.\n",
      "    \n",
      "    Examples\n",
      "    --------\n",
      "    See the :ref:`read_html documentation in the IO section of the docs\n",
      "    <io.read_html>` for some examples of reading in HTML tables.\n",
      "\n"
     ]
    }
   ],
   "source": [
    "help(pd.read_html)"
   ]
  },
  {
   "cell_type": "code",
   "execution_count": null,
   "id": "5a59ee4c",
   "metadata": {},
   "outputs": [],
   "source": []
  }
 ],
 "metadata": {
  "kernelspec": {
   "display_name": "Python 3 (ipykernel)",
   "language": "python",
   "name": "python3"
  },
  "language_info": {
   "codemirror_mode": {
    "name": "ipython",
    "version": 3
   },
   "file_extension": ".py",
   "mimetype": "text/x-python",
   "name": "python",
   "nbconvert_exporter": "python",
   "pygments_lexer": "ipython3",
   "version": "3.9.12"
  }
 },
 "nbformat": 4,
 "nbformat_minor": 5
}

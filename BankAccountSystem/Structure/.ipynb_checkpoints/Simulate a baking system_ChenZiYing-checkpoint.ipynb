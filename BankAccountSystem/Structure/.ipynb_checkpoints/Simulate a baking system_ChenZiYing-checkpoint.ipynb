{
 "cells": [
  {
   "cell_type": "code",
   "execution_count": 4,
   "id": "74b6e349",
   "metadata": {},
   "outputs": [],
   "source": [
    "import User as U\n",
    "import sys\n",
    "sys.path.append('C:\\\\Users\\\\sophiechen\\\\2022MDS\\\\Block 3\\\\Data-533\\\\project-step-1-XiaCatQ\\\\BankAccountSystem\\\\Interface')\n",
    "import bankingUI as bU"
   ]
  },
  {
   "cell_type": "code",
   "execution_count": 5,
   "id": "33c5753d",
   "metadata": {},
   "outputs": [
    {
     "name": "stdout",
     "output_type": "stream",
     "text": [
      "Which action do you wanna do? Create new account 1 Access an exiting account 2 Quiz 3: 1\n",
      "Please provide your name: l\n",
      "Please confirm your initial deposit: 56\n",
      "Here is your account number: 23167\n",
      "You successfully deposit first deposit: 56 on 20221205\n",
      "Here is your account information\n",
      "Name: l\n",
      "Account Number: 23167\n",
      "Open Date: 20221205\n",
      "Account Balance: 56\n"
     ]
    },
    {
     "ename": "AttributeError",
     "evalue": "'newUser' object has no attribute 'accNum'",
     "output_type": "error",
     "traceback": [
      "\u001b[1;31m---------------------------------------------------------------------------\u001b[0m",
      "\u001b[1;31mAttributeError\u001b[0m                            Traceback (most recent call last)",
      "Input \u001b[1;32mIn [5]\u001b[0m, in \u001b[0;36m<cell line: 5>\u001b[1;34m()\u001b[0m\n\u001b[0;32m     17\u001b[0m     customer_dic[name] \u001b[38;5;241m=\u001b[39m [acc_num, customer\u001b[38;5;241m.\u001b[39mbalance]\n\u001b[0;32m     18\u001b[0m     customer\u001b[38;5;241m.\u001b[39minformation(open_date)\n\u001b[1;32m---> 19\u001b[0m     \u001b[43mcustomer\u001b[49m\u001b[38;5;241;43m.\u001b[39;49m\u001b[43mstore\u001b[49m\u001b[43m(\u001b[49m\u001b[43m)\u001b[49m\n\u001b[0;32m     21\u001b[0m \u001b[38;5;28;01mif\u001b[39;00m account_option \u001b[38;5;241m==\u001b[39m \u001b[38;5;241m2\u001b[39m:\n\u001b[0;32m     22\u001b[0m     name_val \u001b[38;5;241m=\u001b[39m \u001b[38;5;28minput\u001b[39m(\u001b[38;5;124m\"\u001b[39m\u001b[38;5;124mPlease provide your name: \u001b[39m\u001b[38;5;124m\"\u001b[39m)\n",
      "File \u001b[1;32m~\\2022MDS\\Block 3\\Data-533\\project-step-1-XiaCatQ\\BankAccountSystem\\Structure\\User.py:37\u001b[0m, in \u001b[0;36mnewUser.store\u001b[1;34m(self)\u001b[0m\n\u001b[0;32m     36\u001b[0m \u001b[38;5;28;01mdef\u001b[39;00m \u001b[38;5;21mstore\u001b[39m(\u001b[38;5;28mself\u001b[39m):\n\u001b[1;32m---> 37\u001b[0m     ds\u001b[38;5;241m.\u001b[39maddAccount(\u001b[38;5;28mself\u001b[39m\u001b[38;5;241m.\u001b[39mname, \u001b[38;5;28;43mself\u001b[39;49m\u001b[38;5;241;43m.\u001b[39;49m\u001b[43maccNum\u001b[49m, \u001b[38;5;28mself\u001b[39m\u001b[38;5;241m.\u001b[39minit_dps, \u001b[38;5;28mself\u001b[39m\u001b[38;5;241m.\u001b[39mbalance)\n",
      "\u001b[1;31mAttributeError\u001b[0m: 'newUser' object has no attribute 'accNum'"
     ]
    }
   ],
   "source": [
    "# create a new Saving Account or access an existing one\n",
    "customer_dic = {'S':[12345, 1000], 'Y':[23456, 10000]}\n",
    "account_option = 1\n",
    "\n",
    "while account_option != 3:\n",
    "\n",
    "    account_option = int(input(\"Which action do you wanna do? Create new account 1 Access an exiting account 2 Quiz 3: \"))\n",
    "\n",
    "    if account_option == 1:\n",
    "        name = input(\"Please provide your name: \")\n",
    "        initial_deposit = int(input(\"Please confirm your initial deposit: \"))\n",
    "        acc_num = U.genAccNum()\n",
    "        print(f\"Here is your account number: {acc_num}\")\n",
    "        open_date = 20221205\n",
    "        customer = U.newUser(name, acc_num, initial_deposit)\n",
    "        customer.deposit(open_date)\n",
    "        customer_dic[name] = [acc_num, customer.balance]\n",
    "        customer.information(open_date)\n",
    "        customer.store()\n",
    "\n",
    "    if account_option == 2:\n",
    "        name_val = input(\"Please provide your name: \")\n",
    "        acc_num_val = int(input(\"Please Provide your account number: \"))\n",
    "        try:\n",
    "            assert customer_dic[name_val][0] == acc_num_val\n",
    "            print(\"Validation Pass!\")\n",
    "        except:\n",
    "            print(\"Please check your name or account number!\")\n",
    "        balance = customer_dic[name_val][1]\n",
    "        euser = U.eUser(name_val, acc_num_val, balance)\n",
    "        action = int(input(\"Which action do you wanna do? Deposit 1 Withdraw 2\"))\n",
    "        if action == 1:\n",
    "            date = 20221205\n",
    "            de_amount = int(input(\"How much money you wanna deposit: \"))\n",
    "            euser.deposit(de_amount, date)\n",
    "            euser.information(date)\n",
    "            customer_dic[name_val][1] = euser.balance\n",
    "        if action == 2:\n",
    "            date = 20221205\n",
    "            wi_amount = int(input(\"How much money you wanna withdraw: \"))\n",
    "            euser.withdraw(wi_amount, date)\n",
    "            euser.information(date)\n",
    "            customer_dic[name_val][1] = euser.balance\n",
    "\n",
    "print(customer_dic)            "
   ]
  },
  {
   "cell_type": "code",
   "execution_count": 111,
   "id": "2e60e5cb",
   "metadata": {},
   "outputs": [
    {
     "data": {
      "text/plain": [
       "{'S': [12345, 1000], 'Y': [23456, 10000], 'G': [18829, 15]}"
      ]
     },
     "execution_count": 111,
     "metadata": {},
     "output_type": "execute_result"
    }
   ],
   "source": [
    "customer_dic"
   ]
  },
  {
   "cell_type": "code",
   "execution_count": 12,
   "id": "1cd29224",
   "metadata": {},
   "outputs": [],
   "source": [
    "available_acc_num = [i for i in range(10000,99999)]\n",
    "def genAccNum():\n",
    "    acc_num = random.choice(available_acc_num)\n",
    "    available_acc_num.remove(acc_num)\n",
    "    return acc_num"
   ]
  },
  {
   "cell_type": "code",
   "execution_count": 13,
   "id": "d87a7ca0",
   "metadata": {},
   "outputs": [
    {
     "data": {
      "text/plain": [
       "42833"
      ]
     },
     "execution_count": 13,
     "metadata": {},
     "output_type": "execute_result"
    }
   ],
   "source": [
    "genAccNum()"
   ]
  },
  {
   "cell_type": "code",
   "execution_count": 14,
   "id": "4b7f5564",
   "metadata": {},
   "outputs": [
    {
     "data": {
      "text/plain": [
       "False"
      ]
     },
     "execution_count": 14,
     "metadata": {},
     "output_type": "execute_result"
    }
   ],
   "source": [
    "42833 in available_acc_num"
   ]
  },
  {
   "cell_type": "code",
   "execution_count": 10,
   "id": "c107b0f1",
   "metadata": {},
   "outputs": [
    {
     "data": {
      "text/plain": [
       "['In',\n",
       " 'Out',\n",
       " 'U',\n",
       " '_',\n",
       " '__',\n",
       " '___',\n",
       " '__builtin__',\n",
       " '__builtins__',\n",
       " '__doc__',\n",
       " '__loader__',\n",
       " '__name__',\n",
       " '__package__',\n",
       " '__spec__',\n",
       " '_dh',\n",
       " '_i',\n",
       " '_i1',\n",
       " '_i10',\n",
       " '_i2',\n",
       " '_i3',\n",
       " '_i4',\n",
       " '_i5',\n",
       " '_i6',\n",
       " '_i7',\n",
       " '_i8',\n",
       " '_i9',\n",
       " '_ih',\n",
       " '_ii',\n",
       " '_iii',\n",
       " '_oh',\n",
       " 'acc_num',\n",
       " 'acc_num_val',\n",
       " 'account_option',\n",
       " 'action',\n",
       " 'balance',\n",
       " 'customer',\n",
       " 'customer_dic',\n",
       " 'date',\n",
       " 'de_amount',\n",
       " 'euser',\n",
       " 'exit',\n",
       " 'get_ipython',\n",
       " 'initial_deposit',\n",
       " 'name',\n",
       " 'name_val',\n",
       " 'open_date',\n",
       " 'quit',\n",
       " 'wi_amount']"
      ]
     },
     "execution_count": 10,
     "metadata": {},
     "output_type": "execute_result"
    }
   ],
   "source": [
    "dir()"
   ]
  },
  {
   "cell_type": "code",
   "execution_count": null,
   "id": "16ffcc25",
   "metadata": {},
   "outputs": [],
   "source": []
  }
 ],
 "metadata": {
  "kernelspec": {
   "display_name": "Python 3 (ipykernel)",
   "language": "python",
   "name": "python3"
  },
  "language_info": {
   "codemirror_mode": {
    "name": "ipython",
    "version": 3
   },
   "file_extension": ".py",
   "mimetype": "text/x-python",
   "name": "python",
   "nbconvert_exporter": "python",
   "pygments_lexer": "ipython3",
   "version": "3.9.12"
  }
 },
 "nbformat": 4,
 "nbformat_minor": 5
}

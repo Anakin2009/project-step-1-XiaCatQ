{
 "cells": [
  {
   "cell_type": "code",
   "execution_count": 18,
   "id": "dbf6a47d",
   "metadata": {},
   "outputs": [],
   "source": [
    "import bankingUI as UI\n",
    "from tkinter import *"
   ]
  },
  {
   "cell_type": "code",
   "execution_count": 37,
   "id": "b3275dd7",
   "metadata": {},
   "outputs": [],
   "source": [
    "import sys\n",
    "sys.path.append('C:\\\\Users\\\\sophiechen\\\\2022MDS\\\\Block 3\\\\Data-533\\\\project-step-1-XiaCatQ\\\\BankAccountSystem\\\\Structure')\n",
    "import User as U"
   ]
  },
  {
   "cell_type": "code",
   "execution_count": 40,
   "id": "e7224655",
   "metadata": {},
   "outputs": [],
   "source": [
    "import os"
   ]
  },
  {
   "cell_type": "code",
   "execution_count": 41,
   "id": "d961ba5c",
   "metadata": {},
   "outputs": [],
   "source": [
    "master = Tk()\n",
    "master.title(\"MDS Banking\")\n",
    "def signup():\n",
    "    # Vars\n",
    "    global temp_name\n",
    "    global temp_accountNum\n",
    "    global temp_initialAmount\n",
    "    global notif\n",
    "    temp_name = StringVar()\n",
    "    temp_acountNum = StringVar()\n",
    "    temp_initialAmount= StringVar()\n",
    "    \n",
    "    # signup screen\n",
    "    signup_screen = Toplevel(master)\n",
    "    signup_screen.title(\"Sign up\")\n",
    "    \n",
    "    # Labels\n",
    "    Label(signup_screen, text = \"Please enter the following information\", font = (\"Calibri\", 11)).grid(row = 0, sticky = N, pady = 10)\n",
    "    Label(signup_screen, text = \"Name\", font = (\"Calibri\", 11)).grid(row = 1, sticky = W)\n",
    "    Label(signup_screen, text = \"initial deposit\", font = (\"Calibri\", 11)).grid(row = 2, sticky = W)\n",
    "    notif = Label(signup_screen, font = (\"Calibri\", 11))\n",
    "    notif.grid(row = 3, sticky = N, pady = 10)\n",
    "    \n",
    "    # Entry\n",
    "    Entry(signup_screen, textvariable = temp_name).grid(row = 1, column = 0)\n",
    "    Entry(signup_screen, textvariable = temp_initialAmount).grid(row = 2, column = 0)\n",
    "    \n",
    "    # Button\n",
    "    Button(signup_screen, text=\"Sign up\", command = signup, width = 15, font = (\"Calibri\", 11)).grid(row = 3, sticky = N, pady = 10)\n",
    "    \n",
    "    signup_screen.mainloop()\n",
    "    \n",
    "def finish_signup():\n",
    "    name = temp_name.get()\n",
    "    accountNum = U.genAccNum()\n",
    "    initialAmount = temp_initialAmount.get()\n",
    "    all_accounts = os.listdir()\n",
    "    \n",
    "    if name == \"\" or accountNum == \"\":\n",
    "        notif.config(fg = \"red\", text = \"All fields required!\")\n",
    "        return\n",
    "\n",
    "    for name_check in all_accounts:\n",
    "        if name == name_check:\n",
    "            notif.config(fg = \"red\", text = \"Account Already Exists!\")\n",
    "            return\n",
    "        else:\n",
    "            ds.addAccount(name, accountNum, initialAmount, initialAmount)\n",
    "            notif.config(fg = \"green\", text = \"Account has been created.\")"
   ]
  },
  {
   "cell_type": "code",
   "execution_count": 42,
   "id": "70ad9f27",
   "metadata": {},
   "outputs": [
    {
     "ename": "TclError",
     "evalue": "invalid command name \".!toplevel.!label4\"",
     "output_type": "error",
     "traceback": [
      "\u001b[1;31m---------------------------------------------------------------------------\u001b[0m",
      "\u001b[1;31mTclError\u001b[0m                                  Traceback (most recent call last)",
      "Input \u001b[1;32mIn [42]\u001b[0m, in \u001b[0;36m<cell line: 1>\u001b[1;34m()\u001b[0m\n\u001b[1;32m----> 1\u001b[0m \u001b[43mfinish_signup\u001b[49m\u001b[43m(\u001b[49m\u001b[43m)\u001b[49m\n",
      "Input \u001b[1;32mIn [41]\u001b[0m, in \u001b[0;36mfinish_signup\u001b[1;34m()\u001b[0m\n\u001b[0;32m     37\u001b[0m all_accounts \u001b[38;5;241m=\u001b[39m os\u001b[38;5;241m.\u001b[39mlistdir()\n\u001b[0;32m     39\u001b[0m \u001b[38;5;28;01mif\u001b[39;00m name \u001b[38;5;241m==\u001b[39m \u001b[38;5;124m\"\u001b[39m\u001b[38;5;124m\"\u001b[39m \u001b[38;5;129;01mor\u001b[39;00m accountNum \u001b[38;5;241m==\u001b[39m \u001b[38;5;124m\"\u001b[39m\u001b[38;5;124m\"\u001b[39m:\n\u001b[1;32m---> 40\u001b[0m     \u001b[43mnotif\u001b[49m\u001b[38;5;241;43m.\u001b[39;49m\u001b[43mconfig\u001b[49m\u001b[43m(\u001b[49m\u001b[43mfg\u001b[49m\u001b[43m \u001b[49m\u001b[38;5;241;43m=\u001b[39;49m\u001b[43m \u001b[49m\u001b[38;5;124;43m\"\u001b[39;49m\u001b[38;5;124;43mred\u001b[39;49m\u001b[38;5;124;43m\"\u001b[39;49m\u001b[43m,\u001b[49m\u001b[43m \u001b[49m\u001b[43mtext\u001b[49m\u001b[43m \u001b[49m\u001b[38;5;241;43m=\u001b[39;49m\u001b[43m \u001b[49m\u001b[38;5;124;43m\"\u001b[39;49m\u001b[38;5;124;43mAll fields required!\u001b[39;49m\u001b[38;5;124;43m\"\u001b[39;49m\u001b[43m)\u001b[49m\n\u001b[0;32m     41\u001b[0m     \u001b[38;5;28;01mreturn\u001b[39;00m\n\u001b[0;32m     43\u001b[0m \u001b[38;5;28;01mfor\u001b[39;00m name_check \u001b[38;5;129;01min\u001b[39;00m all_accounts:\n",
      "File \u001b[1;32m~\\anaconda3\\lib\\tkinter\\__init__.py:1646\u001b[0m, in \u001b[0;36mMisc.configure\u001b[1;34m(self, cnf, **kw)\u001b[0m\n\u001b[0;32m   1639\u001b[0m \u001b[38;5;28;01mdef\u001b[39;00m \u001b[38;5;21mconfigure\u001b[39m(\u001b[38;5;28mself\u001b[39m, cnf\u001b[38;5;241m=\u001b[39m\u001b[38;5;28;01mNone\u001b[39;00m, \u001b[38;5;241m*\u001b[39m\u001b[38;5;241m*\u001b[39mkw):\n\u001b[0;32m   1640\u001b[0m     \u001b[38;5;124;03m\"\"\"Configure resources of a widget.\u001b[39;00m\n\u001b[0;32m   1641\u001b[0m \n\u001b[0;32m   1642\u001b[0m \u001b[38;5;124;03m    The values for resources are specified as keyword\u001b[39;00m\n\u001b[0;32m   1643\u001b[0m \u001b[38;5;124;03m    arguments. To get an overview about\u001b[39;00m\n\u001b[0;32m   1644\u001b[0m \u001b[38;5;124;03m    the allowed keyword arguments call the method keys.\u001b[39;00m\n\u001b[0;32m   1645\u001b[0m \u001b[38;5;124;03m    \"\"\"\u001b[39;00m\n\u001b[1;32m-> 1646\u001b[0m     \u001b[38;5;28;01mreturn\u001b[39;00m \u001b[38;5;28;43mself\u001b[39;49m\u001b[38;5;241;43m.\u001b[39;49m\u001b[43m_configure\u001b[49m\u001b[43m(\u001b[49m\u001b[38;5;124;43m'\u001b[39;49m\u001b[38;5;124;43mconfigure\u001b[39;49m\u001b[38;5;124;43m'\u001b[39;49m\u001b[43m,\u001b[49m\u001b[43m \u001b[49m\u001b[43mcnf\u001b[49m\u001b[43m,\u001b[49m\u001b[43m \u001b[49m\u001b[43mkw\u001b[49m\u001b[43m)\u001b[49m\n",
      "File \u001b[1;32m~\\anaconda3\\lib\\tkinter\\__init__.py:1636\u001b[0m, in \u001b[0;36mMisc._configure\u001b[1;34m(self, cmd, cnf, kw)\u001b[0m\n\u001b[0;32m   1634\u001b[0m \u001b[38;5;28;01mif\u001b[39;00m \u001b[38;5;28misinstance\u001b[39m(cnf, \u001b[38;5;28mstr\u001b[39m):\n\u001b[0;32m   1635\u001b[0m     \u001b[38;5;28;01mreturn\u001b[39;00m \u001b[38;5;28mself\u001b[39m\u001b[38;5;241m.\u001b[39m_getconfigure1(_flatten((\u001b[38;5;28mself\u001b[39m\u001b[38;5;241m.\u001b[39m_w, cmd, \u001b[38;5;124m'\u001b[39m\u001b[38;5;124m-\u001b[39m\u001b[38;5;124m'\u001b[39m\u001b[38;5;241m+\u001b[39mcnf)))\n\u001b[1;32m-> 1636\u001b[0m \u001b[38;5;28;43mself\u001b[39;49m\u001b[38;5;241;43m.\u001b[39;49m\u001b[43mtk\u001b[49m\u001b[38;5;241;43m.\u001b[39;49m\u001b[43mcall\u001b[49m\u001b[43m(\u001b[49m\u001b[43m_flatten\u001b[49m\u001b[43m(\u001b[49m\u001b[43m(\u001b[49m\u001b[38;5;28;43mself\u001b[39;49m\u001b[38;5;241;43m.\u001b[39;49m\u001b[43m_w\u001b[49m\u001b[43m,\u001b[49m\u001b[43m \u001b[49m\u001b[43mcmd\u001b[49m\u001b[43m)\u001b[49m\u001b[43m)\u001b[49m\u001b[43m \u001b[49m\u001b[38;5;241;43m+\u001b[39;49m\u001b[43m \u001b[49m\u001b[38;5;28;43mself\u001b[39;49m\u001b[38;5;241;43m.\u001b[39;49m\u001b[43m_options\u001b[49m\u001b[43m(\u001b[49m\u001b[43mcnf\u001b[49m\u001b[43m)\u001b[49m\u001b[43m)\u001b[49m\n",
      "\u001b[1;31mTclError\u001b[0m: invalid command name \".!toplevel.!label4\""
     ]
    }
   ],
   "source": [
    "finish_signup()"
   ]
  },
  {
   "cell_type": "code",
   "execution_count": 8,
   "id": "57f406ae",
   "metadata": {},
   "outputs": [],
   "source": [
    "WINDOW = Tk()"
   ]
  },
  {
   "cell_type": "code",
   "execution_count": 16,
   "id": "b1960b83",
   "metadata": {},
   "outputs": [],
   "source": [
    "master = Tk()\n",
    "master.title(\"MDS Banking\")\n",
    "\n",
    "def signin_session():\n",
    "    global signin_name\n",
    "    \n",
    "    all_accounts = os.listdir()\n",
    "    signin_name = temp_signin_name.get()\n",
    "    signin_accounntNum = temp_signin_accountNum.get()\n",
    "    \n",
    "    for name in all_accounts:\n",
    "        if name == signin_name:\n",
    "            file = open(name, \"r\")\n",
    "            file_data = file.read()\n",
    "            file_data = file_data.split('\\n')\n",
    "            accountNum = file_data[1]\n",
    "            \n",
    "            if signin_accounntNum == accountNum:\n",
    "                signin_screen.destroy()\n",
    "                account_dashboard = Toplevel(master)\n",
    "                account_dashboard.title(\"Dashboard\")\n",
    "                \n",
    "                #Labels\n",
    "                Label(account_dashboard, text = \"Account Dashboard\", font = (\"Calibri\", 11)).grid(row = 0, sticky = N, pady = 10)\n",
    "                Label(account_dashboard, text = \"Welcome\" + name, font = (\"Calibri\", 11)).grid(row = 1, sticky = N, pady = 5)\n",
    "                \n",
    "                #Buttons\n",
    "                Button(account_dashboard, text = \"Personal Details\", font = (\"Calibri\", 11), width = 30).grid(row = 2, sticky = N, padx = 10)\n",
    "                Button(account_dashboard, text = \"Deposit\", font = (\"Calibri\", 11), width = 30).grid(row = 3, sticky = N, padx = 10)\n",
    "                Button(account_dashboard, text = \"Withdraw\", font = (\"Calibri\", 11), width = 30).grid(row = 4, sticky = N, padx = 10)\n",
    "                Label(account_dashboard).grid(row = 5, sticky = N, pady = 10)\n",
    "                return\n",
    "            else:\n",
    "                signin_notif.config(fg = \"red\", text = \"Password Incorrect\")\n",
    "                return\n",
    "    signin_notif.config(fg = \"red\", text = \"No Account Found \")\n",
    "\n",
    "def signin():\n",
    "    # Vars\n",
    "    global signin_screen\n",
    "    global temp_signin_name\n",
    "    global temp_signin_accountNum\n",
    "    temp_signin_name = StringVar()\n",
    "    temp_signin_accountNum = StringVar()\n",
    "    # screen\n",
    "    signin_screen = Toplevel(master)\n",
    "    signin_screen.title(\"Sign In\")\n",
    "    # Labels\n",
    "    Label(signin_screen, text = \"Sign in to your account\", font = (\"Calibri\", 11)).grid(row = 0, sticky = N, pady = 10)\n",
    "    Label(signin_screen, text = \"User Name\", font = (\"Calibri\", 11)).grid(row = 1, sticky = W)\n",
    "    Label(signin_screen, text = \"Account Number\", font = (\"Calibri\", 11)).grid(row = 2, sticky = W)\n",
    "    # Entry\n",
    "    Entry(signin_screen, textvariable = temp_signin_name).grid(row = 1, column = 1, padx = 5)\n",
    "    Entry(signin_screen, textvariable = temp_signin_accountNum, show = \"*\").grid(row = 2, column = 1, padx = 5)\n",
    "    # Button\n",
    "    Button(signin_screen, text=\"Signin\", command = signin_session, width = 15, font = (\"Calibri\", 11)).grid(row = 3, sticky = W, pady = 5, padx = 5)\n",
    "    \n",
    "    signin_screen.mainloop()"
   ]
  },
  {
   "cell_type": "code",
   "execution_count": 17,
   "id": "eead720d",
   "metadata": {},
   "outputs": [
    {
     "name": "stderr",
     "output_type": "stream",
     "text": [
      "Exception in Tkinter callback\n",
      "Traceback (most recent call last):\n",
      "  File \"C:\\Users\\sophiechen\\anaconda3\\lib\\tkinter\\__init__.py\", line 1892, in __call__\n",
      "    return self.func(*args)\n",
      "  File \"C:\\Users\\sophiechen\\AppData\\Local\\Temp\\ipykernel_13704\\3248373103.py\", line 7, in signin_session\n",
      "    all_accounts = os.listdir()\n",
      "NameError: name 'os' is not defined\n",
      "Exception in Tkinter callback\n",
      "Traceback (most recent call last):\n",
      "  File \"C:\\Users\\sophiechen\\anaconda3\\lib\\tkinter\\__init__.py\", line 1892, in __call__\n",
      "    return self.func(*args)\n",
      "  File \"C:\\Users\\sophiechen\\AppData\\Local\\Temp\\ipykernel_13704\\3248373103.py\", line 7, in signin_session\n",
      "    all_accounts = os.listdir()\n",
      "NameError: name 'os' is not defined\n",
      "Exception in Tkinter callback\n",
      "Traceback (most recent call last):\n",
      "  File \"C:\\Users\\sophiechen\\anaconda3\\lib\\tkinter\\__init__.py\", line 1892, in __call__\n",
      "    return self.func(*args)\n",
      "  File \"C:\\Users\\sophiechen\\AppData\\Local\\Temp\\ipykernel_13704\\3248373103.py\", line 7, in signin_session\n",
      "    all_accounts = os.listdir()\n",
      "NameError: name 'os' is not defined\n"
     ]
    }
   ],
   "source": [
    "signin()"
   ]
  },
  {
   "cell_type": "code",
   "execution_count": null,
   "id": "f89f95e1",
   "metadata": {},
   "outputs": [],
   "source": []
  }
 ],
 "metadata": {
  "kernelspec": {
   "display_name": "Python 3 (ipykernel)",
   "language": "python",
   "name": "python3"
  },
  "language_info": {
   "codemirror_mode": {
    "name": "ipython",
    "version": 3
   },
   "file_extension": ".py",
   "mimetype": "text/x-python",
   "name": "python",
   "nbconvert_exporter": "python",
   "pygments_lexer": "ipython3",
   "version": "3.9.12"
  }
 },
 "nbformat": 4,
 "nbformat_minor": 5
}

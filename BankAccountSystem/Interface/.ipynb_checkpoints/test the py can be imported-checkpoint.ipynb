{
 "cells": [
  {
   "cell_type": "code",
   "execution_count": 1,
   "id": "dbf6a47d",
   "metadata": {},
   "outputs": [],
   "source": [
    "import bankingUI as UI\n",
    "from tkinter import *\n",
    "import bankingDS as ds\n",
    "import sys\n",
    "sys.path.append('C:\\\\Users\\\\sophiechen\\\\2022MDS\\\\Block 3\\\\Data-533\\\\project-step-1-XiaCatQ\\\\BankAccountSystem\\\\Structure')\n",
    "import User as U\n",
    "import os"
   ]
  },
  {
   "cell_type": "code",
   "execution_count": null,
   "id": "eead720d",
   "metadata": {},
   "outputs": [
    {
     "name": "stdout",
     "output_type": "stream",
     "text": [
      "Account Already Exists!\n",
      "Account Already Exists!\n",
      "Account Already Exists!\n",
      "Account Already Exists!\n",
      "Account Already Exists!\n",
      "Account Already Exists!\n",
      "Account Already Exists!\n",
      "Account Already Exists!\n",
      "Account Already Exists!\n",
      "Account Already Exists!\n",
      "Account Already Exists!\n",
      "Account Already Exists!\n",
      "Account Already Exists!\n",
      "Account Already Exists!\n",
      "Account Already Exists!\n",
      "Account Already Exists!\n",
      "Account Already Exists!\n",
      "Account Already Exists!\n",
      "Account Already Exists!\n",
      "22.537281\n"
     ]
    },
    {
     "name": "stderr",
     "output_type": "stream",
     "text": [
      "Exception in Tkinter callback\n",
      "Traceback (most recent call last):\n",
      "  File \"C:\\Users\\sophiechen\\anaconda3\\lib\\tkinter\\__init__.py\", line 1892, in __call__\n",
      "    return self.func(*args)\n",
      "  File \"C:\\Users\\sophiechen\\2022MDS\\Block 3\\Data-533\\project-step-1-XiaCatQ\\BankAccountSystem\\Interface\\bankingUI.py\", line 209, in finish_withdraw\n",
      "    WM = E.withdraw(round(int(temp_w_amount.get()) / Cal.getEXRates(),0), temp_with_date)\n",
      "NameError: name 'temp_with_date' is not defined\n"
     ]
    }
   ],
   "source": [
    "UI.main()"
   ]
  },
  {
   "cell_type": "code",
   "execution_count": null,
   "id": "3217e712",
   "metadata": {},
   "outputs": [],
   "source": []
  },
  {
   "cell_type": "code",
   "execution_count": null,
   "id": "c0cc4690",
   "metadata": {},
   "outputs": [],
   "source": []
  }
 ],
 "metadata": {
  "kernelspec": {
   "display_name": "Python 3 (ipykernel)",
   "language": "python",
   "name": "python3"
  },
  "language_info": {
   "codemirror_mode": {
    "name": "ipython",
    "version": 3
   },
   "file_extension": ".py",
   "mimetype": "text/x-python",
   "name": "python",
   "nbconvert_exporter": "python",
   "pygments_lexer": "ipython3",
   "version": "3.9.12"
  }
 },
 "nbformat": 4,
 "nbformat_minor": 5
}
